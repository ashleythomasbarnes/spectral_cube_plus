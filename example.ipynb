{
 "cells": [
  {
   "cell_type": "code",
   "execution_count": 1,
   "metadata": {},
   "outputs": [
    {
     "name": "stdout",
     "output_type": "stream",
     "text": [
      "Intel MKL WARNING: Support of Intel(R) Streaming SIMD Extensions 4.2 (Intel(R) SSE4.2) enabled only processors has been deprecated. Intel oneAPI Math Kernel Library 2025.0 will require Intel(R) Advanced Vector Extensions (Intel(R) AVX) instructions.\n",
      "Intel MKL WARNING: Support of Intel(R) Streaming SIMD Extensions 4.2 (Intel(R) SSE4.2) enabled only processors has been deprecated. Intel oneAPI Math Kernel Library 2025.0 will require Intel(R) Advanced Vector Extensions (Intel(R) AVX) instructions.\n"
     ]
    }
   ],
   "source": [
    "from spectral_cube_plus import SpectralCubePlus\n",
    "from astropy import units as u"
   ]
  },
  {
   "cell_type": "code",
   "execution_count": 2,
   "metadata": {},
   "outputs": [
    {
     "name": "stderr",
     "output_type": "stream",
     "text": [
      "WARNING: PossiblySlowWarning: This function (<function BaseSpectralCube.to at 0x12fc4b760>) requires loading the entire cube into memory and may therefore be slow. [spectral_cube.utils]\n"
     ]
    }
   ],
   "source": [
    "# Usage\n",
    "cube_plus = SpectralCubePlus.read('CloudH_HCN.fits')\n",
    "cube_plus = cube_plus.with_spectral_unit(u.km / u.s) \n",
    "cube_plus = cube_plus.to('K')\n",
    "\n",
    "rms = cube_plus.get_rms_auto()\n",
    "mask = cube_plus < cube_plus.rms\n",
    "rms = cube_plus.get_rms_auto(mask)\n",
    "\n",
    "_ = cube_plus.get_expmask(hthresh=10, lthresh=5)"
   ]
  },
  {
   "cell_type": "code",
   "execution_count": 3,
   "metadata": {},
   "outputs": [
    {
     "data": {
      "text/latex": [
       "$[[{\\rm NaN},~{\\rm NaN},~{\\rm NaN},~\\dots,~{\\rm NaN},~{\\rm NaN},~{\\rm NaN}],~\n",
       " [{\\rm NaN},~{\\rm NaN},~{\\rm NaN},~\\dots,~0.010528914,~{\\rm NaN},~{\\rm NaN}],~\n",
       " [{\\rm NaN},~{\\rm NaN},~0.023175152,~\\dots,~0.011928319,~0.0038108742,~{\\rm NaN}],~\n",
       " \\dots,~\n",
       " [{\\rm NaN},~{\\rm NaN},~{\\rm NaN},~\\dots,~0.01795368,~0.019833972,~{\\rm NaN}],~\n",
       " [{\\rm NaN},~{\\rm NaN},~{\\rm NaN},~\\dots,~0.013239604,~{\\rm NaN},~{\\rm NaN}],~\n",
       " [{\\rm NaN},~{\\rm NaN},~{\\rm NaN},~\\dots,~{\\rm NaN},~{\\rm NaN},~{\\rm NaN}]] \\; \\mathrm{\\frac{K\\,km}{s}}$"
      ],
      "text/plain": [
       "<Projection [[       nan,        nan,        nan,        nan,        nan,\n",
       "                     nan,        nan,        nan,        nan,        nan,\n",
       "                     nan,        nan,        nan,        nan,        nan,\n",
       "                     nan],\n",
       "             [       nan,        nan,        nan, 0.02500737, 0.02048161,\n",
       "              0.0243859 , 0.02882625, 0.03166689, 0.03148397, 0.02782969,\n",
       "              0.02935795, 0.02221266, 0.01947669, 0.01052891,        nan,\n",
       "                     nan],\n",
       "             [       nan,        nan, 0.02317515, 0.02274384, 0.02001428,\n",
       "              0.02446556, 0.02875   , 0.03126529, 0.03207577, 0.02800178,\n",
       "              0.02960435, 0.02322668, 0.01907032, 0.01192832, 0.00381087,\n",
       "                     nan],\n",
       "             [       nan,        nan, 0.02299468, 0.01632252, 0.01454034,\n",
       "              0.01794551, 0.02215608, 0.02057218, 0.0205504 , 0.019906  ,\n",
       "              0.0194163 , 0.01942513, 0.01477662, 0.00727162, 0.00546132,\n",
       "                     nan],\n",
       "             [       nan,        nan, 0.01661502, 0.01534901, 0.01372907,\n",
       "              0.01507284, 0.02209162, 0.01903228, 0.01877462, 0.01746493,\n",
       "              0.01670761, 0.01670446, 0.01353939, 0.00702392, 0.00347569,\n",
       "                     nan],\n",
       "             [       nan,        nan, 0.00886559, 0.01591799, 0.01471799,\n",
       "              0.01654482, 0.01941455, 0.02073679, 0.01929692, 0.01917798,\n",
       "              0.01833509, 0.01703816, 0.01315748, 0.00890391, 0.0047236 ,\n",
       "                     nan],\n",
       "             [       nan,        nan,        nan, 0.01543702, 0.01532346,\n",
       "              0.01628569, 0.01915463, 0.01812851, 0.01843388, 0.01899214,\n",
       "              0.01653921, 0.01586382, 0.01326669, 0.00770128, 0.0056772 ,\n",
       "                     nan],\n",
       "             [       nan,        nan,        nan, 0.01378806, 0.01590891,\n",
       "              0.01779601, 0.02209069, 0.01925494, 0.01985748, 0.01759907,\n",
       "              0.01794377, 0.01557869, 0.01373059, 0.00992636, 0.00790066,\n",
       "                     nan],\n",
       "             [       nan,        nan,        nan, 0.01239031, 0.01480421,\n",
       "              0.01826405, 0.01958594, 0.0189681 , 0.01970224, 0.01766273,\n",
       "              0.01727955, 0.01499513, 0.01268801, 0.00867849, 0.00588836,\n",
       "                     nan],\n",
       "             [       nan,        nan, 0.00418728, 0.01321074, 0.01433732,\n",
       "              0.01529714, 0.01931767, 0.0198781 , 0.02074116, 0.01815383,\n",
       "              0.01630207, 0.01396129, 0.01110587, 0.00739899, 0.00280556,\n",
       "                     nan],\n",
       "             [       nan,        nan,        nan, 0.0117576 , 0.01380997,\n",
       "              0.01585883, 0.01825517, 0.01668817, 0.01899637, 0.01824351,\n",
       "              0.01712633, 0.01460371, 0.01198832, 0.00907373, 0.00774757,\n",
       "                     nan],\n",
       "             [       nan,        nan,        nan, 0.01253967, 0.01328622,\n",
       "              0.01540746, 0.017555  , 0.01641684, 0.01662967, 0.01858144,\n",
       "              0.01714397, 0.01557339, 0.01226918, 0.0100079 , 0.00586435,\n",
       "                     nan],\n",
       "             [       nan,        nan,        nan, 0.01036199, 0.01258705,\n",
       "              0.01612061, 0.01862384, 0.01834605, 0.01940909, 0.01981462,\n",
       "              0.01726514, 0.01538675, 0.01183352, 0.00895193, 0.00668506,\n",
       "                     nan],\n",
       "             [       nan,        nan,        nan, 0.01027689, 0.01249518,\n",
       "              0.01360297, 0.01800252, 0.01760904, 0.01783337, 0.01808772,\n",
       "              0.01801392, 0.01534186, 0.01155745, 0.0094824 , 0.00332769,\n",
       "                     nan],\n",
       "             [       nan,        nan,        nan, 0.00999445, 0.01206528,\n",
       "              0.01490871, 0.01845582, 0.01819328, 0.01854666, 0.01882083,\n",
       "              0.01892747, 0.01632406, 0.01424619, 0.01092349, 0.00515609,\n",
       "                     nan],\n",
       "             [       nan,        nan,        nan, 0.00957932, 0.01355624,\n",
       "              0.01430346, 0.01667206, 0.01614637, 0.01681316, 0.01664734,\n",
       "              0.0154403 , 0.01519997, 0.01296454, 0.01370932, 0.01346878,\n",
       "                     nan],\n",
       "             [       nan,        nan, 0.0046371 , 0.01055344, 0.01141832,\n",
       "              0.01349013, 0.01558411, 0.01663646, 0.01914869, 0.01794296,\n",
       "              0.01675159, 0.01621764, 0.01369937, 0.01624097, 0.01544971,\n",
       "                     nan],\n",
       "             [       nan,        nan,        nan, 0.01005898, 0.01075156,\n",
       "              0.01036362, 0.01250674, 0.01393267, 0.01610175, 0.01669128,\n",
       "              0.01590229, 0.01417816, 0.01201467, 0.01574114, 0.01728271,\n",
       "                     nan],\n",
       "             [       nan,        nan,        nan, 0.00383214, 0.01012961,\n",
       "              0.00321898, 0.00715544, 0.01672366, 0.0205932 , 0.02152629,\n",
       "              0.02807621, 0.02351013, 0.01743996, 0.01795368, 0.01983397,\n",
       "                     nan],\n",
       "             [       nan,        nan,        nan,        nan, 0.00510554,\n",
       "                     nan,        nan, 0.0047    , 0.02272706, 0.02355451,\n",
       "              0.02428984, 0.0162106 , 0.01308925, 0.0132396 ,        nan,\n",
       "                     nan],\n",
       "             [       nan,        nan,        nan,        nan,        nan,\n",
       "                     nan,        nan,        nan,        nan,        nan,\n",
       "                     nan,        nan,        nan,        nan,        nan,\n",
       "                     nan]] K km / s>"
      ]
     },
     "execution_count": 3,
     "metadata": {},
     "output_type": "execute_result"
    }
   ],
   "source": [
    "cube_plus.masked.moment0()\n",
    "cube_plus.masked.moment0err()"
   ]
  }
 ],
 "metadata": {
  "kernelspec": {
   "display_name": "python3p10",
   "language": "python",
   "name": "python3"
  },
  "language_info": {
   "codemirror_mode": {
    "name": "ipython",
    "version": 3
   },
   "file_extension": ".py",
   "mimetype": "text/x-python",
   "name": "python",
   "nbconvert_exporter": "python",
   "pygments_lexer": "ipython3",
   "version": "3.10.15"
  }
 },
 "nbformat": 4,
 "nbformat_minor": 2
}
