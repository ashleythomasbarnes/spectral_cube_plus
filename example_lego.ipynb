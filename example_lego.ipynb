{
 "cells": [
  {
   "cell_type": "code",
   "execution_count": 1,
   "metadata": {},
   "outputs": [
    {
     "name": "stdout",
     "output_type": "stream",
     "text": [
      "Intel MKL WARNING: Support of Intel(R) Streaming SIMD Extensions 4.2 (Intel(R) SSE4.2) enabled only processors has been deprecated. Intel oneAPI Math Kernel Library 2025.0 will require Intel(R) Advanced Vector Extensions (Intel(R) AVX) instructions.\n",
      "Intel MKL WARNING: Support of Intel(R) Streaming SIMD Extensions 4.2 (Intel(R) SSE4.2) enabled only processors has been deprecated. Intel oneAPI Math Kernel Library 2025.0 will require Intel(R) Advanced Vector Extensions (Intel(R) AVX) instructions.\n"
     ]
    }
   ],
   "source": [
    "from spectral_cube_plus import SpectralCubePlus\n",
    "from astropy import units as u\n",
    "from glob import glob "
   ]
  },
  {
   "cell_type": "code",
   "execution_count": 2,
   "metadata": {},
   "outputs": [],
   "source": [
    "input_files = glob('/Users/abarnes/Dropbox/work/Projects/IRAM-30m/lego_projects/Data/W49A/line_cubes/raw_v2.1/*.fits')"
   ]
  },
  {
   "cell_type": "code",
   "execution_count": 10,
   "metadata": {},
   "outputs": [
    {
     "name": "stdout",
     "output_type": "stream",
     "text": [
      "/Users/abarnes/Dropbox/work/Projects/IRAM-30m/lego_projects/Data/W49A/line_cubes/raw_v2.1/W49A_CS_98_Tmb.fits\n"
     ]
    },
    {
     "name": "stderr",
     "output_type": "stream",
     "text": [
      "WARNING: PossiblySlowWarning: This function (<function BaseSpectralCube.to at 0x12e2a37f0>) requires loading the entire cube into memory and may therefore be slow. [spectral_cube.utils]\n",
      "WARNING: PossiblySlowWarning: This function (<function BaseSpectralCube.max at 0x12e2a0940>) requires loading the entire cube into memory and may therefore be slow. [spectral_cube.utils]\n",
      "/Users/abarnes/opt/anaconda3/envs/python3p10/lib/python3.10/site-packages/spectral_cube/spectral_cube.py:439: RuntimeWarning: All-NaN slice encountered\n",
      "  out = function(self._get_filled_data(fill=fill,\n"
     ]
    },
    {
     "name": "stdout",
     "output_type": "stream",
     "text": [
      "/Users/abarnes/Dropbox/work/Projects/IRAM-30m/lego_projects/Data/W49A/line_cubes/raw_v2.1/W49A_CN_113a_Tmb.fits\n"
     ]
    },
    {
     "name": "stderr",
     "output_type": "stream",
     "text": [
      "WARNING: PossiblySlowWarning: This function (<function BaseSpectralCube.to at 0x12e2a37f0>) requires loading the entire cube into memory and may therefore be slow. [spectral_cube.utils]\n",
      "WARNING: PossiblySlowWarning: This function (<function BaseSpectralCube.max at 0x12e2a0940>) requires loading the entire cube into memory and may therefore be slow. [spectral_cube.utils]\n",
      "/Users/abarnes/opt/anaconda3/envs/python3p10/lib/python3.10/site-packages/spectral_cube/spectral_cube.py:439: RuntimeWarning: All-NaN slice encountered\n",
      "  out = function(self._get_filled_data(fill=fill,\n"
     ]
    },
    {
     "name": "stdout",
     "output_type": "stream",
     "text": [
      "/Users/abarnes/Dropbox/work/Projects/IRAM-30m/lego_projects/Data/W49A/line_cubes/raw_v2.1/W49A_CH3OH_97-A_Tmb.fits\n"
     ]
    },
    {
     "name": "stderr",
     "output_type": "stream",
     "text": [
      "WARNING: PossiblySlowWarning: This function (<function BaseSpectralCube.to at 0x12e2a37f0>) requires loading the entire cube into memory and may therefore be slow. [spectral_cube.utils]\n",
      "WARNING: PossiblySlowWarning: This function (<function BaseSpectralCube.max at 0x12e2a0940>) requires loading the entire cube into memory and may therefore be slow. [spectral_cube.utils]\n",
      "/Users/abarnes/opt/anaconda3/envs/python3p10/lib/python3.10/site-packages/spectral_cube/spectral_cube.py:439: RuntimeWarning: All-NaN slice encountered\n",
      "  out = function(self._get_filled_data(fill=fill,\n"
     ]
    },
    {
     "name": "stdout",
     "output_type": "stream",
     "text": [
      "/Users/abarnes/Dropbox/work/Projects/IRAM-30m/lego_projects/Data/W49A/line_cubes/raw_v2.1/W49A_HN13C_87_Tmb.fits\n"
     ]
    },
    {
     "name": "stderr",
     "output_type": "stream",
     "text": [
      "WARNING: PossiblySlowWarning: This function (<function BaseSpectralCube.to at 0x12e2a37f0>) requires loading the entire cube into memory and may therefore be slow. [spectral_cube.utils]\n",
      "WARNING: PossiblySlowWarning: This function (<function BaseSpectralCube.max at 0x12e2a0940>) requires loading the entire cube into memory and may therefore be slow. [spectral_cube.utils]\n",
      "/Users/abarnes/opt/anaconda3/envs/python3p10/lib/python3.10/site-packages/spectral_cube/spectral_cube.py:439: RuntimeWarning: All-NaN slice encountered\n",
      "  out = function(self._get_filled_data(fill=fill,\n"
     ]
    },
    {
     "name": "stdout",
     "output_type": "stream",
     "text": [
      "/Users/abarnes/Dropbox/work/Projects/IRAM-30m/lego_projects/Data/W49A/line_cubes/raw_v2.1/W49A_HC5N_93_Tmb.fits\n"
     ]
    },
    {
     "name": "stderr",
     "output_type": "stream",
     "text": [
      "WARNING: PossiblySlowWarning: This function (<function BaseSpectralCube.to at 0x12e2a37f0>) requires loading the entire cube into memory and may therefore be slow. [spectral_cube.utils]\n",
      "WARNING: PossiblySlowWarning: This function (<function BaseSpectralCube.max at 0x12e2a0940>) requires loading the entire cube into memory and may therefore be slow. [spectral_cube.utils]\n",
      "/Users/abarnes/opt/anaconda3/envs/python3p10/lib/python3.10/site-packages/spectral_cube/spectral_cube.py:439: RuntimeWarning: All-NaN slice encountered\n",
      "  out = function(self._get_filled_data(fill=fill,\n"
     ]
    },
    {
     "name": "stdout",
     "output_type": "stream",
     "text": [
      "/Users/abarnes/Dropbox/work/Projects/IRAM-30m/lego_projects/Data/W49A/line_cubes/raw_v2.1/W49A_CO_115_Tmb.fits\n"
     ]
    },
    {
     "name": "stderr",
     "output_type": "stream",
     "text": [
      "WARNING: PossiblySlowWarning: This function (<function BaseSpectralCube.to at 0x12e2a37f0>) requires loading the entire cube into memory and may therefore be slow. [spectral_cube.utils]\n",
      "WARNING: PossiblySlowWarning: This function (<function BaseSpectralCube.max at 0x12e2a0940>) requires loading the entire cube into memory and may therefore be slow. [spectral_cube.utils]\n",
      "/Users/abarnes/opt/anaconda3/envs/python3p10/lib/python3.10/site-packages/spectral_cube/spectral_cube.py:439: RuntimeWarning: All-NaN slice encountered\n",
      "  out = function(self._get_filled_data(fill=fill,\n"
     ]
    },
    {
     "name": "stdout",
     "output_type": "stream",
     "text": [
      "/Users/abarnes/Dropbox/work/Projects/IRAM-30m/lego_projects/Data/W49A/line_cubes/raw_v2.1/W49A_CCH_87b_Tmb.fits\n"
     ]
    },
    {
     "name": "stderr",
     "output_type": "stream",
     "text": [
      "WARNING: PossiblySlowWarning: This function (<function BaseSpectralCube.to at 0x12e2a37f0>) requires loading the entire cube into memory and may therefore be slow. [spectral_cube.utils]\n",
      "WARNING: PossiblySlowWarning: This function (<function BaseSpectralCube.max at 0x12e2a0940>) requires loading the entire cube into memory and may therefore be slow. [spectral_cube.utils]\n",
      "/Users/abarnes/opt/anaconda3/envs/python3p10/lib/python3.10/site-packages/spectral_cube/spectral_cube.py:439: RuntimeWarning: All-NaN slice encountered\n",
      "  out = function(self._get_filled_data(fill=fill,\n"
     ]
    },
    {
     "name": "stdout",
     "output_type": "stream",
     "text": [
      "/Users/abarnes/Dropbox/work/Projects/IRAM-30m/lego_projects/Data/W49A/line_cubes/raw_v2.1/W49A_HC5N_96_Tmb.fits\n"
     ]
    },
    {
     "name": "stderr",
     "output_type": "stream",
     "text": [
      "WARNING: PossiblySlowWarning: This function (<function BaseSpectralCube.to at 0x12e2a37f0>) requires loading the entire cube into memory and may therefore be slow. [spectral_cube.utils]\n",
      "WARNING: PossiblySlowWarning: This function (<function BaseSpectralCube.max at 0x12e2a0940>) requires loading the entire cube into memory and may therefore be slow. [spectral_cube.utils]\n",
      "/Users/abarnes/opt/anaconda3/envs/python3p10/lib/python3.10/site-packages/spectral_cube/spectral_cube.py:439: RuntimeWarning: All-NaN slice encountered\n",
      "  out = function(self._get_filled_data(fill=fill,\n"
     ]
    },
    {
     "name": "stdout",
     "output_type": "stream",
     "text": [
      "/Users/abarnes/Dropbox/work/Projects/IRAM-30m/lego_projects/Data/W49A/line_cubes/raw_v2.1/W49A_CN_113b_Tmb.fits\n"
     ]
    },
    {
     "name": "stderr",
     "output_type": "stream",
     "text": [
      "WARNING: PossiblySlowWarning: This function (<function BaseSpectralCube.to at 0x12e2a37f0>) requires loading the entire cube into memory and may therefore be slow. [spectral_cube.utils]\n",
      "WARNING: PossiblySlowWarning: This function (<function BaseSpectralCube.max at 0x12e2a0940>) requires loading the entire cube into memory and may therefore be slow. [spectral_cube.utils]\n",
      "/Users/abarnes/opt/anaconda3/envs/python3p10/lib/python3.10/site-packages/spectral_cube/spectral_cube.py:439: RuntimeWarning: All-NaN slice encountered\n",
      "  out = function(self._get_filled_data(fill=fill,\n"
     ]
    },
    {
     "name": "stdout",
     "output_type": "stream",
     "text": [
      "/Users/abarnes/Dropbox/work/Projects/IRAM-30m/lego_projects/Data/W49A/line_cubes/raw_v2.1/W49A_CH3OH_97-E_Tmb.fits\n"
     ]
    },
    {
     "name": "stderr",
     "output_type": "stream",
     "text": [
      "WARNING: PossiblySlowWarning: This function (<function BaseSpectralCube.to at 0x12e2a37f0>) requires loading the entire cube into memory and may therefore be slow. [spectral_cube.utils]\n",
      "WARNING: PossiblySlowWarning: This function (<function BaseSpectralCube.max at 0x12e2a0940>) requires loading the entire cube into memory and may therefore be slow. [spectral_cube.utils]\n",
      "/Users/abarnes/opt/anaconda3/envs/python3p10/lib/python3.10/site-packages/spectral_cube/spectral_cube.py:439: RuntimeWarning: All-NaN slice encountered\n",
      "  out = function(self._get_filled_data(fill=fill,\n"
     ]
    },
    {
     "name": "stdout",
     "output_type": "stream",
     "text": [
      "/Users/abarnes/Dropbox/work/Projects/IRAM-30m/lego_projects/Data/W49A/line_cubes/raw_v2.1/W49A_C34S_96_Tmb.fits\n"
     ]
    },
    {
     "name": "stderr",
     "output_type": "stream",
     "text": [
      "WARNING: PossiblySlowWarning: This function (<function BaseSpectralCube.to at 0x12e2a37f0>) requires loading the entire cube into memory and may therefore be slow. [spectral_cube.utils]\n",
      "WARNING: PossiblySlowWarning: This function (<function BaseSpectralCube.max at 0x12e2a0940>) requires loading the entire cube into memory and may therefore be slow. [spectral_cube.utils]\n",
      "/Users/abarnes/opt/anaconda3/envs/python3p10/lib/python3.10/site-packages/spectral_cube/spectral_cube.py:439: RuntimeWarning: All-NaN slice encountered\n",
      "  out = function(self._get_filled_data(fill=fill,\n"
     ]
    },
    {
     "name": "stdout",
     "output_type": "stream",
     "text": [
      "/Users/abarnes/Dropbox/work/Projects/IRAM-30m/lego_projects/Data/W49A/line_cubes/raw_v2.1/W49A_C17O_112_Tmb.fits\n"
     ]
    },
    {
     "name": "stderr",
     "output_type": "stream",
     "text": [
      "WARNING: PossiblySlowWarning: This function (<function BaseSpectralCube.to at 0x12e2a37f0>) requires loading the entire cube into memory and may therefore be slow. [spectral_cube.utils]\n",
      "WARNING: PossiblySlowWarning: This function (<function BaseSpectralCube.max at 0x12e2a0940>) requires loading the entire cube into memory and may therefore be slow. [spectral_cube.utils]\n",
      "/Users/abarnes/opt/anaconda3/envs/python3p10/lib/python3.10/site-packages/spectral_cube/spectral_cube.py:439: RuntimeWarning: All-NaN slice encountered\n",
      "  out = function(self._get_filled_data(fill=fill,\n"
     ]
    },
    {
     "name": "stdout",
     "output_type": "stream",
     "text": [
      "/Users/abarnes/Dropbox/work/Projects/IRAM-30m/lego_projects/Data/W49A/line_cubes/raw_v2.1/W49A_HNCO_110_Tmb.fits\n"
     ]
    },
    {
     "name": "stderr",
     "output_type": "stream",
     "text": [
      "WARNING: PossiblySlowWarning: This function (<function BaseSpectralCube.to at 0x12e2a37f0>) requires loading the entire cube into memory and may therefore be slow. [spectral_cube.utils]\n",
      "WARNING: PossiblySlowWarning: This function (<function BaseSpectralCube.max at 0x12e2a0940>) requires loading the entire cube into memory and may therefore be slow. [spectral_cube.utils]\n",
      "/Users/abarnes/opt/anaconda3/envs/python3p10/lib/python3.10/site-packages/spectral_cube/spectral_cube.py:439: RuntimeWarning: All-NaN slice encountered\n",
      "  out = function(self._get_filled_data(fill=fill,\n"
     ]
    },
    {
     "name": "stdout",
     "output_type": "stream",
     "text": [
      "/Users/abarnes/Dropbox/work/Projects/IRAM-30m/lego_projects/Data/W49A/line_cubes/raw_v2.1/W49A_HNCO_88_Tmb.fits\n"
     ]
    },
    {
     "name": "stderr",
     "output_type": "stream",
     "text": [
      "WARNING: PossiblySlowWarning: This function (<function BaseSpectralCube.to at 0x12e2a37f0>) requires loading the entire cube into memory and may therefore be slow. [spectral_cube.utils]\n",
      "WARNING: PossiblySlowWarning: This function (<function BaseSpectralCube.max at 0x12e2a0940>) requires loading the entire cube into memory and may therefore be slow. [spectral_cube.utils]\n",
      "/Users/abarnes/opt/anaconda3/envs/python3p10/lib/python3.10/site-packages/spectral_cube/spectral_cube.py:439: RuntimeWarning: All-NaN slice encountered\n",
      "  out = function(self._get_filled_data(fill=fill,\n"
     ]
    },
    {
     "name": "stdout",
     "output_type": "stream",
     "text": [
      "/Users/abarnes/Dropbox/work/Projects/IRAM-30m/lego_projects/Data/W49A/line_cubes/raw_v2.1/W49A_C18O_110_Tmb.fits\n"
     ]
    },
    {
     "name": "stderr",
     "output_type": "stream",
     "text": [
      "WARNING: PossiblySlowWarning: This function (<function BaseSpectralCube.to at 0x12e2a37f0>) requires loading the entire cube into memory and may therefore be slow. [spectral_cube.utils]\n",
      "WARNING: PossiblySlowWarning: This function (<function BaseSpectralCube.max at 0x12e2a0940>) requires loading the entire cube into memory and may therefore be slow. [spectral_cube.utils]\n",
      "/Users/abarnes/opt/anaconda3/envs/python3p10/lib/python3.10/site-packages/spectral_cube/spectral_cube.py:439: RuntimeWarning: All-NaN slice encountered\n",
      "  out = function(self._get_filled_data(fill=fill,\n"
     ]
    },
    {
     "name": "stdout",
     "output_type": "stream",
     "text": [
      "/Users/abarnes/Dropbox/work/Projects/IRAM-30m/lego_projects/Data/W49A/line_cubes/raw_v2.1/W49A_HC3N_109_Tmb.fits\n"
     ]
    },
    {
     "name": "stderr",
     "output_type": "stream",
     "text": [
      "WARNING: PossiblySlowWarning: This function (<function BaseSpectralCube.to at 0x12e2a37f0>) requires loading the entire cube into memory and may therefore be slow. [spectral_cube.utils]\n",
      "WARNING: PossiblySlowWarning: This function (<function BaseSpectralCube.max at 0x12e2a0940>) requires loading the entire cube into memory and may therefore be slow. [spectral_cube.utils]\n",
      "/Users/abarnes/opt/anaconda3/envs/python3p10/lib/python3.10/site-packages/spectral_cube/spectral_cube.py:439: RuntimeWarning: All-NaN slice encountered\n",
      "  out = function(self._get_filled_data(fill=fill,\n"
     ]
    },
    {
     "name": "stdout",
     "output_type": "stream",
     "text": [
      "/Users/abarnes/Dropbox/work/Projects/IRAM-30m/lego_projects/Data/W49A/line_cubes/raw_v2.1/W49A_HNC_91_Tmb.fits\n"
     ]
    },
    {
     "name": "stderr",
     "output_type": "stream",
     "text": [
      "WARNING: PossiblySlowWarning: This function (<function BaseSpectralCube.to at 0x12e2a37f0>) requires loading the entire cube into memory and may therefore be slow. [spectral_cube.utils]\n",
      "WARNING: PossiblySlowWarning: This function (<function BaseSpectralCube.max at 0x12e2a0940>) requires loading the entire cube into memory and may therefore be slow. [spectral_cube.utils]\n",
      "/Users/abarnes/opt/anaconda3/envs/python3p10/lib/python3.10/site-packages/spectral_cube/spectral_cube.py:439: RuntimeWarning: All-NaN slice encountered\n",
      "  out = function(self._get_filled_data(fill=fill,\n"
     ]
    },
    {
     "name": "stdout",
     "output_type": "stream",
     "text": [
      "/Users/abarnes/Dropbox/work/Projects/IRAM-30m/lego_projects/Data/W49A/line_cubes/raw_v2.1/W49A_HCN_89_Tmb.fits\n"
     ]
    },
    {
     "name": "stderr",
     "output_type": "stream",
     "text": [
      "WARNING: PossiblySlowWarning: This function (<function BaseSpectralCube.to at 0x12e2a37f0>) requires loading the entire cube into memory and may therefore be slow. [spectral_cube.utils]\n",
      "WARNING: PossiblySlowWarning: This function (<function BaseSpectralCube.max at 0x12e2a0940>) requires loading the entire cube into memory and may therefore be slow. [spectral_cube.utils]\n",
      "/Users/abarnes/opt/anaconda3/envs/python3p10/lib/python3.10/site-packages/spectral_cube/spectral_cube.py:439: RuntimeWarning: All-NaN slice encountered\n",
      "  out = function(self._get_filled_data(fill=fill,\n"
     ]
    },
    {
     "name": "stdout",
     "output_type": "stream",
     "text": [
      "/Users/abarnes/Dropbox/work/Projects/IRAM-30m/lego_projects/Data/W49A/line_cubes/raw_v2.1/W49A_HCO+_89_Tmb.fits\n"
     ]
    },
    {
     "name": "stderr",
     "output_type": "stream",
     "text": [
      "WARNING: PossiblySlowWarning: This function (<function BaseSpectralCube.to at 0x12e2a37f0>) requires loading the entire cube into memory and may therefore be slow. [spectral_cube.utils]\n",
      "WARNING: PossiblySlowWarning: This function (<function BaseSpectralCube.max at 0x12e2a0940>) requires loading the entire cube into memory and may therefore be slow. [spectral_cube.utils]\n",
      "/Users/abarnes/opt/anaconda3/envs/python3p10/lib/python3.10/site-packages/spectral_cube/spectral_cube.py:439: RuntimeWarning: All-NaN slice encountered\n",
      "  out = function(self._get_filled_data(fill=fill,\n"
     ]
    },
    {
     "name": "stdout",
     "output_type": "stream",
     "text": [
      "/Users/abarnes/Dropbox/work/Projects/IRAM-30m/lego_projects/Data/W49A/line_cubes/raw_v2.1/W49A_CCH_87a_Tmb.fits\n"
     ]
    },
    {
     "name": "stderr",
     "output_type": "stream",
     "text": [
      "WARNING: PossiblySlowWarning: This function (<function BaseSpectralCube.to at 0x12e2a37f0>) requires loading the entire cube into memory and may therefore be slow. [spectral_cube.utils]\n",
      "WARNING: PossiblySlowWarning: This function (<function BaseSpectralCube.max at 0x12e2a0940>) requires loading the entire cube into memory and may therefore be slow. [spectral_cube.utils]\n",
      "/Users/abarnes/opt/anaconda3/envs/python3p10/lib/python3.10/site-packages/spectral_cube/spectral_cube.py:439: RuntimeWarning: All-NaN slice encountered\n",
      "  out = function(self._get_filled_data(fill=fill,\n"
     ]
    },
    {
     "name": "stdout",
     "output_type": "stream",
     "text": [
      "/Users/abarnes/Dropbox/work/Projects/IRAM-30m/lego_projects/Data/W49A/line_cubes/raw_v2.1/W49A_H13CN_86_Tmb.fits\n"
     ]
    },
    {
     "name": "stderr",
     "output_type": "stream",
     "text": [
      "WARNING: PossiblySlowWarning: This function (<function BaseSpectralCube.to at 0x12e2a37f0>) requires loading the entire cube into memory and may therefore be slow. [spectral_cube.utils]\n",
      "WARNING: PossiblySlowWarning: This function (<function BaseSpectralCube.max at 0x12e2a0940>) requires loading the entire cube into memory and may therefore be slow. [spectral_cube.utils]\n",
      "/Users/abarnes/opt/anaconda3/envs/python3p10/lib/python3.10/site-packages/spectral_cube/spectral_cube.py:439: RuntimeWarning: All-NaN slice encountered\n",
      "  out = function(self._get_filled_data(fill=fill,\n"
     ]
    },
    {
     "name": "stdout",
     "output_type": "stream",
     "text": [
      "/Users/abarnes/Dropbox/work/Projects/IRAM-30m/lego_projects/Data/W49A/line_cubes/raw_v2.1/W49A_SiO_87_Tmb.fits\n"
     ]
    },
    {
     "name": "stderr",
     "output_type": "stream",
     "text": [
      "WARNING: PossiblySlowWarning: This function (<function BaseSpectralCube.to at 0x12e2a37f0>) requires loading the entire cube into memory and may therefore be slow. [spectral_cube.utils]\n",
      "WARNING: PossiblySlowWarning: This function (<function BaseSpectralCube.max at 0x12e2a0940>) requires loading the entire cube into memory and may therefore be slow. [spectral_cube.utils]\n",
      "/Users/abarnes/opt/anaconda3/envs/python3p10/lib/python3.10/site-packages/spectral_cube/spectral_cube.py:439: RuntimeWarning: All-NaN slice encountered\n",
      "  out = function(self._get_filled_data(fill=fill,\n"
     ]
    },
    {
     "name": "stdout",
     "output_type": "stream",
     "text": [
      "/Users/abarnes/Dropbox/work/Projects/IRAM-30m/lego_projects/Data/W49A/line_cubes/raw_v2.1/W49A_H_41a_Tmb.fits\n"
     ]
    },
    {
     "name": "stderr",
     "output_type": "stream",
     "text": [
      "WARNING: PossiblySlowWarning: This function (<function BaseSpectralCube.to at 0x12e2a37f0>) requires loading the entire cube into memory and may therefore be slow. [spectral_cube.utils]\n",
      "WARNING: PossiblySlowWarning: This function (<function BaseSpectralCube.max at 0x12e2a0940>) requires loading the entire cube into memory and may therefore be slow. [spectral_cube.utils]\n",
      "/Users/abarnes/opt/anaconda3/envs/python3p10/lib/python3.10/site-packages/spectral_cube/spectral_cube.py:439: RuntimeWarning: All-NaN slice encountered\n",
      "  out = function(self._get_filled_data(fill=fill,\n"
     ]
    },
    {
     "name": "stdout",
     "output_type": "stream",
     "text": [
      "/Users/abarnes/Dropbox/work/Projects/IRAM-30m/lego_projects/Data/W49A/line_cubes/raw_v2.1/W49A_OCS_109_Tmb.fits\n"
     ]
    },
    {
     "name": "stderr",
     "output_type": "stream",
     "text": [
      "WARNING: PossiblySlowWarning: This function (<function BaseSpectralCube.to at 0x12e2a37f0>) requires loading the entire cube into memory and may therefore be slow. [spectral_cube.utils]\n",
      "WARNING: PossiblySlowWarning: This function (<function BaseSpectralCube.max at 0x12e2a0940>) requires loading the entire cube into memory and may therefore be slow. [spectral_cube.utils]\n",
      "/Users/abarnes/opt/anaconda3/envs/python3p10/lib/python3.10/site-packages/spectral_cube/spectral_cube.py:439: RuntimeWarning: All-NaN slice encountered\n",
      "  out = function(self._get_filled_data(fill=fill,\n"
     ]
    },
    {
     "name": "stdout",
     "output_type": "stream",
     "text": [
      "/Users/abarnes/Dropbox/work/Projects/IRAM-30m/lego_projects/Data/W49A/line_cubes/raw_v2.1/W49A_SO_99_Tmb.fits\n"
     ]
    },
    {
     "name": "stderr",
     "output_type": "stream",
     "text": [
      "WARNING: PossiblySlowWarning: This function (<function BaseSpectralCube.to at 0x12e2a37f0>) requires loading the entire cube into memory and may therefore be slow. [spectral_cube.utils]\n",
      "WARNING: PossiblySlowWarning: This function (<function BaseSpectralCube.max at 0x12e2a0940>) requires loading the entire cube into memory and may therefore be slow. [spectral_cube.utils]\n",
      "/Users/abarnes/opt/anaconda3/envs/python3p10/lib/python3.10/site-packages/spectral_cube/spectral_cube.py:439: RuntimeWarning: All-NaN slice encountered\n",
      "  out = function(self._get_filled_data(fill=fill,\n"
     ]
    },
    {
     "name": "stdout",
     "output_type": "stream",
     "text": [
      "/Users/abarnes/Dropbox/work/Projects/IRAM-30m/lego_projects/Data/W49A/line_cubes/raw_v2.1/W49A_H13CO+_87_Tmb.fits\n"
     ]
    },
    {
     "name": "stderr",
     "output_type": "stream",
     "text": [
      "WARNING: PossiblySlowWarning: This function (<function BaseSpectralCube.to at 0x12e2a37f0>) requires loading the entire cube into memory and may therefore be slow. [spectral_cube.utils]\n",
      "WARNING: PossiblySlowWarning: This function (<function BaseSpectralCube.max at 0x12e2a0940>) requires loading the entire cube into memory and may therefore be slow. [spectral_cube.utils]\n",
      "/Users/abarnes/opt/anaconda3/envs/python3p10/lib/python3.10/site-packages/spectral_cube/spectral_cube.py:439: RuntimeWarning: All-NaN slice encountered\n",
      "  out = function(self._get_filled_data(fill=fill,\n"
     ]
    },
    {
     "name": "stdout",
     "output_type": "stream",
     "text": [
      "/Users/abarnes/Dropbox/work/Projects/IRAM-30m/lego_projects/Data/W49A/line_cubes/raw_v2.1/W49A_N2H+_93_Tmb.fits\n"
     ]
    },
    {
     "name": "stderr",
     "output_type": "stream",
     "text": [
      "WARNING: PossiblySlowWarning: This function (<function BaseSpectralCube.to at 0x12e2a37f0>) requires loading the entire cube into memory and may therefore be slow. [spectral_cube.utils]\n",
      "WARNING: PossiblySlowWarning: This function (<function BaseSpectralCube.max at 0x12e2a0940>) requires loading the entire cube into memory and may therefore be slow. [spectral_cube.utils]\n",
      "/Users/abarnes/opt/anaconda3/envs/python3p10/lib/python3.10/site-packages/spectral_cube/spectral_cube.py:439: RuntimeWarning: All-NaN slice encountered\n",
      "  out = function(self._get_filled_data(fill=fill,\n"
     ]
    },
    {
     "name": "stdout",
     "output_type": "stream",
     "text": [
      "/Users/abarnes/Dropbox/work/Projects/IRAM-30m/lego_projects/Data/W49A/line_cubes/raw_v2.1/W49A_13CO_110_Tmb.fits\n"
     ]
    },
    {
     "name": "stderr",
     "output_type": "stream",
     "text": [
      "WARNING: PossiblySlowWarning: This function (<function BaseSpectralCube.to at 0x12e2a37f0>) requires loading the entire cube into memory and may therefore be slow. [spectral_cube.utils]\n",
      "WARNING: PossiblySlowWarning: This function (<function BaseSpectralCube.max at 0x12e2a0940>) requires loading the entire cube into memory and may therefore be slow. [spectral_cube.utils]\n",
      "/Users/abarnes/opt/anaconda3/envs/python3p10/lib/python3.10/site-packages/spectral_cube/spectral_cube.py:439: RuntimeWarning: All-NaN slice encountered\n",
      "  out = function(self._get_filled_data(fill=fill,\n"
     ]
    }
   ],
   "source": [
    "for input_file in input_files:\n",
    "    \n",
    "    print(input_file)\n",
    "    output_file = input_file.replace('cubes', 'moments') \n",
    "\n",
    "    cube = SpectralCubePlus.read(input_file)\n",
    "    cube = cube.with_spectral_unit(u.km / u.s) \n",
    "    cube = cube.to('K')\n",
    "\n",
    "    rms = cube.get_rms_auto()\n",
    "    mask = cube < cube.rms\n",
    "    rms = cube.get_rms_auto(mask)\n",
    "\n",
    "    _ = cube.get_expmask(hthresh=4, lthresh=2)\n",
    "\n",
    "    mom8 = cube.masked.max(axis=0)\n",
    "    mom0 = cube.masked.moment0()\n",
    "    mom0err = cube.masked.moment0err()\n",
    "\n",
    "    mom8.write(output_file.replace('_Tmb.fits', '_max.fits'), overwrite=True)\n",
    "    mom0.write(output_file.replace('_Tmb.fits', '_mom0.fits'), overwrite=True)\n",
    "    mom0err.write(output_file.replace('_Tmb.fits', '_mom0err.fits'), overwrite=True)"
   ]
  },
  {
   "cell_type": "code",
   "execution_count": null,
   "metadata": {},
   "outputs": [],
   "source": []
  }
 ],
 "metadata": {
  "kernelspec": {
   "display_name": "python3p10",
   "language": "python",
   "name": "python3"
  },
  "language_info": {
   "codemirror_mode": {
    "name": "ipython",
    "version": 3
   },
   "file_extension": ".py",
   "mimetype": "text/x-python",
   "name": "python",
   "nbconvert_exporter": "python",
   "pygments_lexer": "ipython3",
   "version": "3.10.15"
  }
 },
 "nbformat": 4,
 "nbformat_minor": 2
}
