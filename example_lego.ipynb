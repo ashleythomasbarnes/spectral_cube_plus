{
 "cells": [
  {
   "cell_type": "code",
   "execution_count": 1,
   "metadata": {},
   "outputs": [
    {
     "name": "stdout",
     "output_type": "stream",
     "text": [
      "Intel MKL WARNING: Support of Intel(R) Streaming SIMD Extensions 4.2 (Intel(R) SSE4.2) enabled only processors has been deprecated. Intel oneAPI Math Kernel Library 2025.0 will require Intel(R) Advanced Vector Extensions (Intel(R) AVX) instructions.\n",
      "Intel MKL WARNING: Support of Intel(R) Streaming SIMD Extensions 4.2 (Intel(R) SSE4.2) enabled only processors has been deprecated. Intel oneAPI Math Kernel Library 2025.0 will require Intel(R) Advanced Vector Extensions (Intel(R) AVX) instructions.\n"
     ]
    }
   ],
   "source": [
    "from spectral_cube_plus import SpectralCubePlus\n",
    "from astropy import units as u\n",
    "from glob import glob "
   ]
  },
  {
   "cell_type": "code",
   "execution_count": 2,
   "metadata": {},
   "outputs": [],
   "source": [
    "input_files = glob('/Users/abarnes/Dropbox/work/Projects/IRAM-30m/lego_projects/Data/W49A/line_cubes/raw_v2.1/*.fits')"
   ]
  },
  {
   "cell_type": "code",
   "execution_count": 9,
   "metadata": {},
   "outputs": [
    {
     "name": "stdout",
     "output_type": "stream",
     "text": [
      "/Users/abarnes/Dropbox/work/Projects/IRAM-30m/lego_projects/Data/W49A/line_cubes/raw_v2.1/W49A_CS_98_Tmb.fits\n"
     ]
    },
    {
     "name": "stderr",
     "output_type": "stream",
     "text": [
      "WARNING: PossiblySlowWarning: This function (<function BaseSpectralCube.to at 0x12e2a37f0>) requires loading the entire cube into memory and may therefore be slow. [spectral_cube.utils]\n",
      "WARNING: PossiblySlowWarning: This function (<function BaseSpectralCube.max at 0x12e2a0940>) requires loading the entire cube into memory and may therefore be slow. [spectral_cube.utils]\n",
      "/Users/abarnes/opt/anaconda3/envs/python3p10/lib/python3.10/site-packages/spectral_cube/spectral_cube.py:439: RuntimeWarning: All-NaN slice encountered\n",
      "  out = function(self._get_filled_data(fill=fill,\n"
     ]
    }
   ],
   "source": [
    "for input_file in input_files:\n",
    "    \n",
    "    print(input_file)\n",
    "    output_file = input_file.replace('cubes', 'moments') \n",
    "\n",
    "    cube = SpectralCubePlus.read(input_file)\n",
    "    cube = cube.with_spectral_unit(u.km / u.s) \n",
    "    cube = cube.to('K')\n",
    "\n",
    "    rms = cube.get_rms_auto()\n",
    "    mask = cube < cube.rms\n",
    "    rms = cube.get_rms_auto(mask)\n",
    "\n",
    "    _ = cube.get_expmask(hthresh=4, lthresh=2)\n",
    "\n",
    "    mom8 = cube.masked.max(axis=0)\n",
    "    mom0 = cube.masked.moment0()\n",
    "    mom0err = cube.masked.moment0err()\n",
    "\n",
    "    mom8.write(output_file.replace('_Tmb.fits', '_max.fits'), overwrite=True)\n",
    "    mom0.write(output_file.replace('_Tmb.fits', '_mom0.fits'), overwrite=True)\n",
    "    mom0err.write(output_file.replace('_Tmb.fits', '_mom0err.fits'), overwrite=True)"
   ]
  }
 ],
 "metadata": {
  "kernelspec": {
   "display_name": "python3p10",
   "language": "python",
   "name": "python3"
  },
  "language_info": {
   "codemirror_mode": {
    "name": "ipython",
    "version": 3
   },
   "file_extension": ".py",
   "mimetype": "text/x-python",
   "name": "python",
   "nbconvert_exporter": "python",
   "pygments_lexer": "ipython3",
   "version": "3.10.15"
  }
 },
 "nbformat": 4,
 "nbformat_minor": 2
}
